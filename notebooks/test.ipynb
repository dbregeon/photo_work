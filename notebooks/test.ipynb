{
 "cells": [
  {
   "cell_type": "markdown",
   "metadata": {},
   "source": [
    "### Dependencies"
   ]
  },
  {
   "cell_type": "code",
   "execution_count": 16,
   "metadata": {},
   "outputs": [],
   "source": [
    ":dep kamadak-exif = \"0\"\n",
    ":dep chrono = \"0\"\n"
   ]
  },
  {
   "cell_type": "markdown",
   "metadata": {},
   "source": [
    "### Uses"
   ]
  },
  {
   "cell_type": "code",
   "execution_count": 17,
   "metadata": {},
   "outputs": [],
   "source": [
    "\n",
    "use std::path::PathBuf;\n",
    "use chrono::NaiveDate;\n",
    "use chrono::format::ParseError;"
   ]
  },
  {
   "cell_type": "markdown",
   "metadata": {},
   "source": [
    "### Definitions"
   ]
  },
  {
   "cell_type": "code",
   "execution_count": 18,
   "metadata": {},
   "outputs": [],
   "source": [
    "let file = std::fs::File::open(PathBuf::from(\"/home/denis/photo_work_todo/2023/06/16/IMG_7898.JPG\"))?;\n",
    "let exif = {\n",
    "    let mut bufreader = std::io::BufReader::new(&file);\n",
    "    let exifreader = exif::Reader::new();\n",
    "    exifreader.read_from_container(&mut bufreader)?\n",
    "};\n"
   ]
  },
  {
   "cell_type": "code",
   "execution_count": 36,
   "metadata": {},
   "outputs": [
    {
     "name": "stdout",
     "output_type": "stream",
     "text": [
      "2023/06/16\n"
     ]
    }
   ],
   "source": [
    "let date = {\n",
    "    let datetime_field = exif.get_field(exif::Tag::DateTimeOriginal, exif::In::PRIMARY).unwrap();\n",
    "    NaiveDate::parse_from_str(&datetime_field.value.display_as(exif::Tag::DateTimeOriginal).to_string(), \"%Y-%m-%d %H:%M:%S\")?\n",
    "};\n",
    "let path = PathBuf::from(date.format(\"%Y/%m/%d\").to_string());\n",
    "println!(\"{}\", path.display());"
   ]
  }
 ],
 "metadata": {
  "kernelspec": {
   "display_name": "Rust",
   "language": "rust",
   "name": "rust"
  },
  "language_info": {
   "codemirror_mode": "rust",
   "file_extension": ".rs",
   "mimetype": "text/rust",
   "name": "rust",
   "pygment_lexer": "rust",
   "version": ""
  }
 },
 "nbformat": 4,
 "nbformat_minor": 2
}
